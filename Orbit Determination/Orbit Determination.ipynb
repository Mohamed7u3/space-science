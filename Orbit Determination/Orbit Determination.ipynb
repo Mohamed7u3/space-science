{
 "cells": [
  {
   "cell_type": "code",
   "execution_count": 1,
   "metadata": {},
   "outputs": [
    {
     "name": "stdout",
     "output_type": "stream",
     "text": [
      "*my name is mohamed sobhi and iam study at the faculty of navigation science and space technology**\n",
      "******************Identify Orbit Determination ******************\n",
      "**********Algorithm: Classical Orbital Elements (COEs)***********\n",
      "************************Package: python *************************\n"
     ]
    }
   ],
   "source": [
    "print(format('my name is mohamed sobhi and iam study at the faculty of navigation science and space technology', '*^99'))    \n",
    "print(format('Identify Orbit Determination ','*^65'))\n",
    "print(format('Algorithm: Classical Orbital Elements (COEs)','*^65'))            \n",
    "print(format('Package: python ','*^65'))            "
   ]
  },
  {
   "cell_type": "markdown",
   "metadata": {},
   "source": [
    "# The orbital elements are used to describe the size, shape, and orientation of an orbit and the location of spacecraft in that orbit.\n",
    "## 1. Semimajor axis, a, defines the orbit size.\n",
    "## 2. Eccentricity, e, defines the orbit shape.\n",
    "## 3. Inclination, i (0 and 180 degree) and right ascension, Ω (0 and 360 ), define the orbital plane orientation in space.\n",
    "## 4. Argument of perigee, 𝜔 (0 and 360), defines the orientation of the orbit within the plane.\n",
    "## 5. True anomaly, 𝜈, defines the spacecraft's location in the orbit.\n",
    "## 6. Longitude of the ascending node, Ω , horizontally orients the ascending node of the ellipse (where the orbit passes upward through the reference plane) with respect to the reference frame's vernal point."
   ]
  },
  {
   "cell_type": "code",
   "execution_count": 2,
   "metadata": {},
   "outputs": [],
   "source": [
    "#import libararies\n",
    "import numpy as np\n",
    "import pandas as pd\n",
    "import math"
   ]
  },
  {
   "cell_type": "code",
   "execution_count": 3,
   "metadata": {},
   "outputs": [],
   "source": [
    "#Given the spacecraft inertial position and velocity vectors at a single point of time are given as a state vectors\n",
    "RX = float(input('please enter the position of spacecraft in x direction = '))\n",
    "RY = float(input('please enter the position of spacecraft in y direction = '))\n",
    "RZ = float(input('please enter the position of spacecraft in z direction = '))\n",
    "VX = float(input('please enter the velocity of spacecraft in x direction = '))\n",
    "VY = float(input('please enter the velocity of spacecraft in y direction = '))\n",
    "VZ = float(input('please enter the velocity of spacecraft in z direction = '))\n",
    "\n",
    "R = np.array([RX,RY,RZ])\n",
    "V = np.array([VX,VY,VZ])\n",
    "\n",
    "GM = 398600     #km^3/sec^2\n",
    "K = [0, 0, 1]\n",
    "Earth_radius =6378.137          # km\n",
    "g = 9.797919335                 # m/sec^2 "
   ]
  },
  {
   "cell_type": "code",
   "execution_count": 4,
   "metadata": {},
   "outputs": [],
   "source": [
    "#Calculate the distance , speed and altitude\n",
    "r = math.sqrt(RX*RX + RY*RY + RZ*RZ)\n",
    "v = math.sqrt(VX*VX + VY*VY + VZ*VZ)\n",
    "altitude = r - Earth_radius "
   ]
  },
  {
   "cell_type": "code",
   "execution_count": 5,
   "metadata": {},
   "outputs": [],
   "source": [
    "# Acceleration of gravity, gH , at an altitude H.\n",
    "gH = g*(Earth_radius/r)\n",
    "# Calculate orbit circumference (C).\n",
    "C = 2* 3.14* r              # km"
   ]
  },
  {
   "cell_type": "code",
   "execution_count": 6,
   "metadata": {},
   "outputs": [],
   "source": [
    "#Calculate the specific angular momentum.\n",
    "H = np.cross(R , V)\n",
    "#Calculate the magnitude of h vector.\n",
    "h = math.sqrt(H[0]*H[0] + H[1]*H[1] + H[2]*H[2])\n"
   ]
  },
  {
   "cell_type": "code",
   "execution_count": 7,
   "metadata": {},
   "outputs": [],
   "source": [
    "#Calculate the eccentricity vector.\n",
    "E =  1/GM *(np.cross(V,H))  - R/r\n",
    "e = math.sqrt(E[0]*E[0] + E[1]*E[1] + E[2]*E[2])\n"
   ]
  },
  {
   "cell_type": "code",
   "execution_count": 8,
   "metadata": {},
   "outputs": [],
   "source": [
    "#Calculate the semimajor axis(a).\n",
    "a = h**2/(GM*(1-e**2))"
   ]
  },
  {
   "cell_type": "code",
   "execution_count": 9,
   "metadata": {},
   "outputs": [],
   "source": [
    "# Calculate the inclination angle i.\n",
    "i = np.degrees(math.acos( H[2] / h))"
   ]
  },
  {
   "cell_type": "code",
   "execution_count": 10,
   "metadata": {},
   "outputs": [],
   "source": [
    "#Calculate the ascending node vector n.\n",
    "N = np.cross(K , H)\n",
    "n = math.sqrt(N[0]**2 + N[1]**2 + N[2]**2)"
   ]
  },
  {
   "cell_type": "code",
   "execution_count": 11,
   "metadata": {},
   "outputs": [],
   "source": [
    "# Calculate the right ascension of the ascending node Ω.\n",
    "#right_ascending = np.degrees(math.acos( N[0] / n))\n",
    "#If nY ≥ 0 , then 0° ≤ Ω ≤ 180°\n",
    "#If nY < 0 , then 180° < Ω < 360°\n",
    "if N[1] >= 0:\n",
    "    right_ascending = np.degrees(math.acos( N[0] / n))\n",
    "else:\n",
    "    right_ascending =180 + np.degrees(math.acos( N[0] / n))\n",
    "\n"
   ]
  },
  {
   "cell_type": "code",
   "execution_count": 12,
   "metadata": {},
   "outputs": [],
   "source": [
    "# Calculate the argument of perigee 𝜔.\n",
    "#If eZ ≥ 0 , then 0° ≤ 𝜔 ≤ 180°\n",
    "#If eZ < 0 , then 180° < 𝜔 < 360°\n",
    "if E[2]>= 0:\n",
    "    argument_of_perigee = np.degrees(math.acos( np.dot(N,E) / n*e))\n",
    "else:\n",
    "    argument_of_perigee = 180 + np.degrees(math.acos( np.dot(N,E) / n*e))"
   ]
  },
  {
   "cell_type": "code",
   "execution_count": 13,
   "metadata": {},
   "outputs": [],
   "source": [
    "# Calculate the true anomaly(v).\n",
    "if np.dot(R,V)>=0 :\n",
    "    true_anomly = np.degrees(math.acos(( np.dot(E,R)) / (e*r)))\n",
    "else:\n",
    "    true_anomly = 180 + np.degrees(math.acos(( np.dot(E,R)) / (e*r)))\n",
    "   "
   ]
  },
  {
   "cell_type": "code",
   "execution_count": 14,
   "metadata": {},
   "outputs": [],
   "source": [
    "# The orbital period T in seconds can be determined according to Kepler 3rd.\n",
    "P = 2 * 3.14 *math.sqrt(a**3/GM)"
   ]
  },
  {
   "cell_type": "code",
   "execution_count": 15,
   "metadata": {},
   "outputs": [
    {
     "name": "stdout",
     "output_type": "stream",
     "text": [
      "Earth_radius =  6378.137 km\n",
      "Altitude =  -6281.142154776143 km\n",
      "orbital velocity =  75.29276193632427 km/sec^2\n",
      " Acceleration of gravity, gH , at an altitude H =  644.2865256328907 km/sec^2 \n",
      "orbit circumference (C) =  609.1276280058228 km\n",
      "the specific angular momentum in 3dimention =  [  728.  1456. -2184.]\n",
      "the magnitude specific angular momentum =  2723.9265775714293 km/sec^2\n",
      "the eccentricity vector =  [-0.83487159 -0.17189116 -0.39288464]\n",
      "the eccentricity =  0.9385709828261761\n",
      "the semimajor axis(a) =  156.31412547268062 km\n",
      "the inclination angle i =  143.30077479951012 degree\n",
      "the ascending node vector =  [-1456.   728.     0.]\n",
      "the magnitude ascending node  =  1627.857487619847\n",
      "he right ascension of the ascending node Ω =  153.434948822922 degree\n",
      "the argument of perigee 𝜔 =  231.0449165036315 degree\n",
      "the true anomaly(v) =  149.42631057004215 degree\n",
      "orbital period P in seconds 19.439645208491758 sec\n"
     ]
    }
   ],
   "source": [
    "print('Earth_radius = ', Earth_radius, 'km')\n",
    "print('Altitude = ', altitude, 'km')\n",
    "print('orbital velocity = ', v, 'km/sec^2')\n",
    "print(' Acceleration of gravity, gH , at an altitude H = ', gH, 'km/sec^2 ')\n",
    "print('orbit circumference (C) = ', C, 'km')\n",
    "print('the specific angular momentum in 3dimention = ', H)\n",
    "print('the magnitude specific angular momentum = ', h, 'km/sec^2')\n",
    "print('the eccentricity vector = ', E)\n",
    "print('the eccentricity = ', e)\n",
    "print('the semimajor axis(a) = ', a, 'km')\n",
    "print('the inclination angle i = ', i, 'degree')\n",
    "print('the ascending node vector = ', N)\n",
    "print('the magnitude ascending node  = ', n)\n",
    "print('he right ascension of the ascending node Ω = ', right_ascending, 'degree')\n",
    "print('the argument of perigee 𝜔 = ', argument_of_perigee, 'degree')\n",
    "print('the true anomaly(v) = ', true_anomly, 'degree')\n",
    "print('orbital period P in seconds', P, 'sec')"
   ]
  },
  {
   "cell_type": "code",
   "execution_count": null,
   "metadata": {},
   "outputs": [],
   "source": []
  }
 ],
 "metadata": {
  "interpreter": {
   "hash": "ffa8d2f23cf7dca79de37fa7ff5fe726279daae3d03022c716ae31f59539b400"
  },
  "kernelspec": {
   "display_name": "Python 3.10.2 64-bit",
   "language": "python",
   "name": "python3"
  },
  "language_info": {
   "codemirror_mode": {
    "name": "ipython",
    "version": 3
   },
   "file_extension": ".py",
   "mimetype": "text/x-python",
   "name": "python",
   "nbconvert_exporter": "python",
   "pygments_lexer": "ipython3",
   "version": "3.10.2"
  },
  "orig_nbformat": 4
 },
 "nbformat": 4,
 "nbformat_minor": 2
}

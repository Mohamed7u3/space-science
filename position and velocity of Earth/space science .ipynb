{
 "cells": [
  {
   "cell_type": "markdown",
   "id": "geographic-monaco",
   "metadata": {},
   "source": [
    "# hello, my name is Mohamed Sobhi. I'm student in faculty of navigation science and space technology in Bin Seuf university.\n",
    "\n",
    "## this is my first program in my course (space science applications with python) \n",
    "\n",
    "### my program is how to calculate position and velocity of Earth and calculate the distance between the earth and the sun.\n"
   ]
  },
  {
   "cell_type": "code",
   "execution_count": 1,
   "id": "informed-interest",
   "metadata": {},
   "outputs": [],
   "source": [
    "# Import the libraries\n",
    "import spiceypy\n",
    "import datetime\n",
    "import math"
   ]
  },
  {
   "cell_type": "code",
   "execution_count": 2,
   "id": "north-leather",
   "metadata": {},
   "outputs": [],
   "source": [
    "#get today's date\n",
    "Date_today = datetime.datetime.today()"
   ]
  },
  {
   "cell_type": "code",
   "execution_count": 3,
   "id": "intense-anthropology",
   "metadata": {},
   "outputs": [
    {
     "data": {
      "text/plain": [
       "datetime.datetime(2021, 4, 17, 0, 57, 12, 465591)"
      ]
     },
     "execution_count": 3,
     "metadata": {},
     "output_type": "execute_result"
    }
   ],
   "source": [
    "Date_today"
   ]
  },
  {
   "cell_type": "code",
   "execution_count": 4,
   "id": "special-session",
   "metadata": {},
   "outputs": [
    {
     "data": {
      "text/plain": [
       "datetime.datetime"
      ]
     },
     "execution_count": 4,
     "metadata": {},
     "output_type": "execute_result"
    }
   ],
   "source": [
    "type(Date_today)"
   ]
  },
  {
   "cell_type": "code",
   "execution_count": 5,
   "id": "composite-interpretation",
   "metadata": {},
   "outputs": [],
   "source": [
    "DATE_TODAY = Date_today.strftime('%Y-%m-%dT00:00:00')"
   ]
  },
  {
   "cell_type": "code",
   "execution_count": 6,
   "id": "adjacent-motorcycle",
   "metadata": {},
   "outputs": [
    {
     "data": {
      "text/plain": [
       "str"
      ]
     },
     "execution_count": 6,
     "metadata": {},
     "output_type": "execute_result"
    }
   ],
   "source": [
    "type(DATE_TODAY)"
   ]
  },
  {
   "cell_type": "code",
   "execution_count": 7,
   "id": "central-whole",
   "metadata": {},
   "outputs": [],
   "source": [
    "#We need to load it first\n",
    "spiceypy.furnsh('naif0012.tls')"
   ]
  },
  {
   "cell_type": "code",
   "execution_count": 8,
   "id": "nuclear-review",
   "metadata": {},
   "outputs": [],
   "source": [
    "# convert the utc string to the corresponding ET\n",
    "ET = spiceypy.utc2et(DATE_TODAY)"
   ]
  },
  {
   "cell_type": "code",
   "execution_count": 9,
   "id": "collective-methodology",
   "metadata": {},
   "outputs": [
    {
     "data": {
      "text/plain": [
       "float"
      ]
     },
     "execution_count": 9,
     "metadata": {},
     "output_type": "execute_result"
    }
   ],
   "source": [
    "type(ET)"
   ]
  },
  {
   "cell_type": "code",
   "execution_count": 10,
   "id": "accomplished-comparison",
   "metadata": {},
   "outputs": [
    {
     "data": {
      "text/plain": [
       "671889669.1856147"
      ]
     },
     "execution_count": 10,
     "metadata": {},
     "output_type": "execute_result"
    }
   ],
   "source": [
    "ET"
   ]
  },
  {
   "cell_type": "code",
   "execution_count": 11,
   "id": "reasonable-cinema",
   "metadata": {},
   "outputs": [],
   "source": [
    "#We need to load it first\n",
    "spiceypy.furnsh('de432s.bsp')"
   ]
  },
  {
   "cell_type": "code",
   "execution_count": 12,
   "id": "terminal-trash",
   "metadata": {},
   "outputs": [],
   "source": [
    "# Now compute  the position and velocity\n",
    "# The first 3 values are the x, y, z components in km. The last 3 values are the corresponding velocity components in km/s.\n",
    "\n",
    "Earth_State_Sun, Earth_Sun_Light_Time = spiceypy.spkgeo(targ=399, et=ET, \n",
    "                                                            ref='ECLIPJ2000', obs=10)"
   ]
  },
  {
   "cell_type": "code",
   "execution_count": 13,
   "id": "excellent-clinic",
   "metadata": {},
   "outputs": [
    {
     "name": "stdout",
     "output_type": "stream",
     "text": [
      "[-1.33891171e+08 -6.79882877e+07  3.54455068e+03  1.30125648e+01\n",
      " -2.66744540e+01  1.81527088e-04]\n"
     ]
    }
   ],
   "source": [
    "print(Earth_State_Sun)"
   ]
  },
  {
   "cell_type": "code",
   "execution_count": 14,
   "id": "geographic-depth",
   "metadata": {},
   "outputs": [
    {
     "name": "stdout",
     "output_type": "stream",
     "text": [
      "500.89347576227533\n"
     ]
    }
   ],
   "source": [
    "print(Earth_Sun_Light_Time)"
   ]
  },
  {
   "cell_type": "code",
   "execution_count": 15,
   "id": "fifty-industry",
   "metadata": {},
   "outputs": [],
   "source": [
    "Earth_Sun_Dinstance = math.sqrt(Earth_State_Sun[0]**2.0 \\\n",
    "                             + Earth_State_Sun[1]**2.0 \\\n",
    "                             + Earth_State_Sun[2]**2.0)"
   ]
  },
  {
   "cell_type": "code",
   "execution_count": 16,
   "id": "another-hypothesis",
   "metadata": {},
   "outputs": [
    {
     "name": "stdout",
     "output_type": "stream",
     "text": [
      "Current distance between the Earth and the Sun in AU: 1.0037849180534744\n"
     ]
    }
   ],
   "source": [
    "Earth_Sun_Dinstance_AU = spiceypy.convrt(Earth_Sun_Dinstance, 'km', 'AU')\n",
    "\n",
    "\n",
    "print('Current distance between the Earth and the Sun in AU:', Earth_Sun_Dinstance_AU)"
   ]
  },
  {
   "cell_type": "code",
   "execution_count": 17,
   "id": "olive-manual",
   "metadata": {},
   "outputs": [
    {
     "name": "stdout",
     "output_type": "stream",
     "text": [
      "Current orbital speed of the Earth around the Sun in km/s: 29.679173462433322\n"
     ]
    }
   ],
   "source": [
    "\n",
    "velocity = math.sqrt(Earth_State_Sun[3]**2.0 \\\n",
    "                                  + Earth_State_Sun[4]**2.0 \\\n",
    "                                  + Earth_State_Sun[5]**2.0)\n",
    "\n",
    "\n",
    "print('Current orbital speed of the Earth around the Sun in km/s:', velocity)"
   ]
  },
  {
   "cell_type": "code",
   "execution_count": 18,
   "id": "quality-issue",
   "metadata": {},
   "outputs": [
    {
     "name": "stdout",
     "output_type": "stream",
     "text": [
      "Theoretical orbital speed of the Earth around the Sun in km/s: 29.728485037423564\n"
     ]
    }
   ],
   "source": [
    "spiceypy.furnsh('gm_de431.tpc')\n",
    "_, GM_SUN = spiceypy.bodvcd(bodyid=10, item='GM', maxn=1)\n",
    "\n",
    "\n",
    "V_Func = lambda gm, r: math.sqrt(gm/r)\n",
    "velocity_Theory = V_Func(GM_SUN[0], Earth_Sun_Dinstance)\n",
    "\n",
    "\n",
    "print('Theoretical orbital speed of the Earth around the Sun in km/s:', velocity_Theory)"
   ]
  },
  {
   "cell_type": "code",
   "execution_count": null,
   "id": "brazilian-reducing",
   "metadata": {},
   "outputs": [],
   "source": []
  }
 ],
 "metadata": {
  "kernelspec": {
   "display_name": "Python 3",
   "language": "python",
   "name": "python3"
  },
  "language_info": {
   "codemirror_mode": {
    "name": "ipython",
    "version": 3
   },
   "file_extension": ".py",
   "mimetype": "text/x-python",
   "name": "python",
   "nbconvert_exporter": "python",
   "pygments_lexer": "ipython3",
   "version": "3.7.9"
  }
 },
 "nbformat": 4,
 "nbformat_minor": 5
}
